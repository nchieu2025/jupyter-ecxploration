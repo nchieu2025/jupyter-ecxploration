{
  "nbformat": 4,
  "nbformat_minor": 0,
  "metadata": {
    "colab": {
      "provenance": []
    },
    "kernelspec": {
      "name": "python3",
      "display_name": "Python 3"
    },
    "language_info": {
      "name": "python"
    }
  },
  "cells": [
    {
      "cell_type": "code",
      "execution_count": null,
      "metadata": {
        "id": "vVxIXZqjFiQ6"
      },
      "outputs": [],
      "source": []
    },
    {
      "cell_type": "markdown",
      "source": [
        "My first markdown cell in Jupyter"
      ],
      "metadata": {
        "id": "asvIfi8QFk9v"
      }
    },
    {
      "cell_type": "code",
      "source": [
        "Hello, World"
      ],
      "metadata": {
        "id": "U80fKKfeGG3Y"
      },
      "execution_count": null,
      "outputs": []
    }
  ]
}